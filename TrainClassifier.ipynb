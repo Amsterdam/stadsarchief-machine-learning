{
 "cells": [
  {
   "cell_type": "markdown",
   "metadata": {},
   "source": [
    "Basic classification of stadsarchief images\n",
    "Network based on: https://towardsdatascience.com/build-your-own-convolution-neural-network-in-5-mins-4217c2cf964f"
   ]
  },
  {
   "cell_type": "code",
   "execution_count": 12,
   "metadata": {},
   "outputs": [],
   "source": [
    "import numpy as np\n",
    "import math\n",
    "from PIL import Image\n",
    "from scipy import misc\n",
    "import keras.backend as K\n",
    "\n",
    "import keras\n",
    "from keras.datasets import mnist\n",
    "from keras.models import Sequential\n",
    "from keras.layers import Dense, Dropout, Flatten\n",
    "from keras.layers import Conv2D, MaxPooling2D\n",
    "from keras.initializers import RandomUniform\n",
    "from keras.layers import LeakyReLU\n",
    "\n",
    "from stats import list_stats\n",
    "from data import load_data"
   ]
  },
  {
   "cell_type": "code",
   "execution_count": 2,
   "metadata": {},
   "outputs": [
    {
     "name": "stdout",
     "output_type": "stream",
     "text": [
      "first few ids: ['000000091010', '000000091053', '000000091089', '000000091123', '000000091242']\n",
      "shuffling X and Y\n"
     ]
    }
   ],
   "source": [
    "# IMG_DIR = 'examples/0-src/200x200/';\n",
    "# LABEL_DIR = 'examples/0-src/labels/';\n",
    "IMG_DIR = 'examples/0-src/beeldbank-scraped_set/300x300/';\n",
    "LABEL_DIR = 'examples/0-src/beeldbank-scraped_set/labels/';\n",
    "img_dim = (300, 300, 3);\n",
    "\n",
    "[X, Y_yaml] = load_data(IMG_DIR, LABEL_DIR)\n",
    "Y_type = np.array([y.get('type') for y in Y_yaml])\n",
    "\n",
    "def shuffle(X, Y):\n",
    "    indices = np.random.permutation(X.shape[0])\n",
    "    X_shuffled = X[indices]\n",
    "    Y_shuffled = Y[indices]\n",
    "    return (X_shuffled, Y_shuffled)\n",
    "# print(X.shape)\n",
    "\n",
    "print('shuffling X and Y')\n",
    "X_shuffled, Y_shuffled = shuffle(X, Y_type)\n",
    "X = X_shuffled\n",
    "Y_type = Y_shuffled\n",
    "\n",
    "# def simplify_Y(Y):\n",
    "#     return np.array([y if y == 'blueprint' else 'other' for y in Y])\n",
    "\n",
    "# Y_type = simplify_Y(Y_type)"
   ]
  },
  {
   "cell_type": "code",
   "execution_count": 3,
   "metadata": {},
   "outputs": [
    {
     "name": "stdout",
     "output_type": "stream",
     "text": [
      "shape X: (1201, 300, 300, 3)\n",
      "shape Y: (1201,)\n",
      "classes: 5\n",
      "[['foto', 250], ['kaart', 30], ['affiche', 8], ['bouwtekening', 338], ['prent', 575]]\n"
     ]
    }
   ],
   "source": [
    "print(f\"shape X: {X.shape}\")\n",
    "print(f\"shape Y: {Y_type.shape}\")\n",
    "\n",
    "list_stats(Y_type)"
   ]
  },
  {
   "cell_type": "code",
   "execution_count": 7,
   "metadata": {},
   "outputs": [
    {
     "name": "stdout",
     "output_type": "stream",
     "text": [
      "number of classes: 5\n",
      "types encountered: ['foto', 'kaart', 'affiche', 'bouwtekening', 'prent']\n",
      "['foto' 'bouwtekening' 'bouwtekening']\n",
      "[0 3 3]\n",
      "classes: 5\n",
      "[[0, 250], [1, 30], [2, 8], [3, 338], [4, 575]]\n"
     ]
    }
   ],
   "source": [
    "# Convert string to idx\n",
    "types = list(set(Y_type))\n",
    "num_classes = len(types)\n",
    "print(f\"number of classes: {num_classes}\")\n",
    "print(f\"types encountered: {types}\")\n",
    "\n",
    "def convert_to_index(Y, types):\n",
    "    return np.array([types.index(y) for y in Y])\n",
    "\n",
    "Yind = convert_to_index(Y_type, types)\n",
    "print(Y_type[:3])\n",
    "print(Yind[:3])\n",
    "\n",
    "list_stats(Yind)"
   ]
  },
  {
   "cell_type": "code",
   "execution_count": null,
   "metadata": {},
   "outputs": [],
   "source": [
    "# def set_class(Y, class_idx):\n",
    "#     print(Y)\n",
    "#     Y[:] = class_idx\n",
    "#     print(Y)\n",
    "#     return Y\n",
    "# # YInd = set_class(Yind, 0)"
   ]
  },
  {
   "cell_type": "code",
   "execution_count": 10,
   "metadata": {},
   "outputs": [
    {
     "name": "stdout",
     "output_type": "stream",
     "text": [
      "(1201,)\n",
      "(1201, 5)\n"
     ]
    },
    {
     "data": {
      "text/plain": [
       "(1201, 300, 300, 3)"
      ]
     },
     "execution_count": 10,
     "metadata": {},
     "output_type": "execute_result"
    }
   ],
   "source": [
    "Y = keras.utils.to_categorical(Yind, num_classes)  # convert class vectors to binary class matrices\n",
    "print(Yind.shape)\n",
    "print(Y.shape)"
   ]
  },
  {
   "cell_type": "code",
   "execution_count": 14,
   "metadata": {},
   "outputs": [
    {
     "name": "stdout",
     "output_type": "stream",
     "text": [
      "\n",
      "split data shapes:\n",
      "(960, 300, 300, 3)\n",
      "(960, 5)\n",
      "(241, 300, 300, 3)\n",
      "(241, 5)\n"
     ]
    }
   ],
   "source": [
    "# Split to train and test\n",
    "def split_data(X, Y, size):\n",
    "    X_train = X[:N]\n",
    "    Y_train = Y[:N]\n",
    "    X_test = X[N:]\n",
    "    Y_test = Y[N:]\n",
    "    return (X_train, Y_train), (X_test, Y_test)\n",
    "\n",
    "total = X.shape[0]\n",
    "img_dim = (200, 200, 3);\n",
    "N = math.floor(0.8 * total)\n",
    "(X_train, Y_train), (X_test, Y_test) = split_data(X, Y, N)\n",
    "print(\"\")\n",
    "print(\"split data shapes:\")\n",
    "print(X_train.shape)\n",
    "print(Y_train.shape)\n",
    "print(X_test.shape)\n",
    "print(Y_test.shape)"
   ]
  },
  {
   "cell_type": "code",
   "execution_count": 15,
   "metadata": {},
   "outputs": [
    {
     "name": "stdout",
     "output_type": "stream",
     "text": [
      "train: \n",
      "{0: 200, 1: 23, 2: 5, 3: 273, 4: 459}\n",
      "test: \n",
      "{0: 50, 1: 7, 2: 3, 3: 65, 4: 116}\n"
     ]
    }
   ],
   "source": [
    "def list_stats(X, Y):\n",
    "    Yidx = np.argmax(Y, axis=1)\n",
    "    unique, counts = np.unique(Yidx, return_counts=True)\n",
    "    print(dict(zip(unique, counts)))\n",
    "print(\"stats train: \")\n",
    "list_stats(X_train, Y_train)\n",
    "print(\"stats test: \")\n",
    "list_stats(X_test, Y_test)"
   ]
  },
  {
   "cell_type": "code",
   "execution_count": 22,
   "metadata": {},
   "outputs": [
    {
     "name": "stdout",
     "output_type": "stream",
     "text": [
      "split data shapes:\n",
      "(960, 300, 300, 3)\n",
      "(960, 5)\n",
      "(241, 300, 300, 3)\n",
      "(241, 5)\n",
      "split data shapes:\n",
      "(960, 200, 200, 3)\n",
      "(960, 5)\n",
      "(241, 200, 200, 3)\n",
      "(241, 5)\n"
     ]
    }
   ],
   "source": [
    "resize = 200\n",
    "print(\"split data shapes:\")\n",
    "print(X_train.shape)\n",
    "print(Y_train.shape)\n",
    "print(X_test.shape)\n",
    "print(Y_test.shape)\n",
    "X_train = X_train[:, :resize, :resize, :]\n",
    "X_test = X_test[:, :resize, :resize, :]\n",
    "print(\"split data shapes:\")\n",
    "print(X_train.shape)\n",
    "print(Y_train.shape)\n",
    "print(X_test.shape)\n",
    "print(Y_test.shape)\n",
    "img_dim = (resize, resize, 3);"
   ]
  },
  {
   "cell_type": "code",
   "execution_count": 23,
   "metadata": {},
   "outputs": [
    {
     "name": "stdout",
     "output_type": "stream",
     "text": [
      "(200, 200, 3)\n",
      "WARNING:tensorflow:From /Volumes/CaseSensitiveWorkspace/gem-ams/stadarchief-ml/.venv/lib/python3.7/site-packages/tensorflow/python/framework/op_def_library.py:263: colocate_with (from tensorflow.python.framework.ops) is deprecated and will be removed in a future version.\n",
      "Instructions for updating:\n",
      "Colocations handled automatically by placer.\n",
      "_________________________________________________________________\n",
      "Layer (type)                 Output Shape              Param #   \n",
      "=================================================================\n",
      "conv2d_1 (Conv2D)            (None, 198, 198, 2)       56        \n",
      "_________________________________________________________________\n",
      "leaky_re_lu_1 (LeakyReLU)    (None, 198, 198, 2)       0         \n",
      "_________________________________________________________________\n",
      "flatten_1 (Flatten)          (None, 78408)             0         \n",
      "_________________________________________________________________\n",
      "dense_1 (Dense)              (None, 16)                1254544   \n",
      "_________________________________________________________________\n",
      "leaky_re_lu_2 (LeakyReLU)    (None, 16)                0         \n",
      "_________________________________________________________________\n",
      "dense_2 (Dense)              (None, 5)                 85        \n",
      "=================================================================\n",
      "Total params: 1,254,685\n",
      "Trainable params: 1,254,685\n",
      "Non-trainable params: 0\n",
      "_________________________________________________________________\n"
     ]
    }
   ],
   "source": [
    "# def build_model(num_classes, img_dim):\n",
    "#     model = Sequential()\n",
    "#     model.add(Conv2D(32, kernel_size=(3, 3),\n",
    "#                      activation='relu',\n",
    "#                      input_shape=img_dim))\n",
    "#     model.add(Conv2D(64, (3, 3), activation='relu'))\n",
    "#     model.add(MaxPooling2D(pool_size=(2, 2)))\n",
    "#     model.add(Dropout(0.25))\n",
    "#     model.add(Flatten())\n",
    "#     model.add(Dense(128, activation='relu'))\n",
    "#     model.add(Dropout(0.5))\n",
    "#     model.add(Dense(num_classes, activation='softmax'))\n",
    "#     return model\n",
    "\n",
    "def build_model(num_classes, img_dim):\n",
    "    print(img_dim)\n",
    "    model = Sequential()\n",
    "    model.add(Conv2D(2, kernel_size=(3, 3),\n",
    "                     activation='linear',\n",
    "                     input_shape=img_dim,\n",
    "                     kernel_initializer = RandomUniform()\n",
    "                    ))\n",
    "    model.add(LeakyReLU())\n",
    "#     model.add(MaxPooling2D(pool_size=(2, 2)))\n",
    "#     model.add(Dropout(0.25))\n",
    "\n",
    "    model.add(Flatten())    \n",
    "#     model.add(Flatten(input_shape=img_dim))\n",
    "    model.add(Dense(16, activation='linear', kernel_initializer = RandomUniform()))\n",
    "    model.add(LeakyReLU())\n",
    "#     model.add(Dropout(0.5))\n",
    "    model.add(Dense(num_classes, activation='softmax'))\n",
    "    return model\n",
    "model = build_model(num_classes, img_dim)\n",
    "model.summary()"
   ]
  },
  {
   "cell_type": "code",
   "execution_count": 24,
   "metadata": {},
   "outputs": [
    {
     "name": "stdout",
     "output_type": "stream",
     "text": [
      "WARNING:tensorflow:From /Volumes/CaseSensitiveWorkspace/gem-ams/stadarchief-ml/.venv/lib/python3.7/site-packages/tensorflow/python/ops/math_ops.py:3066: to_int32 (from tensorflow.python.ops.math_ops) is deprecated and will be removed in a future version.\n",
      "Instructions for updating:\n",
      "Use tf.cast instead.\n",
      "Train on 960 samples, validate on 241 samples\n",
      "Epoch 1/20\n",
      "960/960 [==============================] - 5s 5ms/step - loss: 11.9062 - acc: 0.2604 - mean_pred: 0.2000 - val_loss: 11.7709 - val_acc: 0.2697 - val_mean_pred: 0.2000\n",
      "Epoch 2/20\n",
      "960/960 [==============================] - 4s 5ms/step - loss: 11.5345 - acc: 0.2844 - mean_pred: 0.2000 - val_loss: 11.7709 - val_acc: 0.2697 - val_mean_pred: 0.2000\n",
      "Epoch 3/20\n",
      "960/960 [==============================] - 5s 5ms/step - loss: 11.5345 - acc: 0.2844 - mean_pred: 0.2000 - val_loss: 11.7709 - val_acc: 0.2697 - val_mean_pred: 0.2000\n",
      "Epoch 4/20\n",
      "960/960 [==============================] - 5s 5ms/step - loss: 11.5345 - acc: 0.2844 - mean_pred: 0.2000 - val_loss: 11.7709 - val_acc: 0.2697 - val_mean_pred: 0.2000\n",
      "Epoch 5/20\n",
      "960/960 [==============================] - 5s 5ms/step - loss: 11.5345 - acc: 0.2844 - mean_pred: 0.2000 - val_loss: 11.7709 - val_acc: 0.2697 - val_mean_pred: 0.2000\n",
      "Epoch 6/20\n",
      "960/960 [==============================] - 5s 5ms/step - loss: 11.5345 - acc: 0.2844 - mean_pred: 0.2000 - val_loss: 11.7709 - val_acc: 0.2697 - val_mean_pred: 0.2000\n",
      "Epoch 7/20\n",
      "960/960 [==============================] - 5s 5ms/step - loss: 11.5345 - acc: 0.2844 - mean_pred: 0.2000 - val_loss: 11.7709 - val_acc: 0.2697 - val_mean_pred: 0.2000\n",
      "Epoch 8/20\n",
      "960/960 [==============================] - 5s 5ms/step - loss: 11.5345 - acc: 0.2844 - mean_pred: 0.2000 - val_loss: 11.7709 - val_acc: 0.2697 - val_mean_pred: 0.2000\n",
      "Epoch 9/20\n",
      "960/960 [==============================] - 5s 5ms/step - loss: 11.5345 - acc: 0.2844 - mean_pred: 0.2000 - val_loss: 11.7709 - val_acc: 0.2697 - val_mean_pred: 0.2000\n",
      "Epoch 10/20\n",
      "960/960 [==============================] - 5s 5ms/step - loss: 11.5345 - acc: 0.2844 - mean_pred: 0.2000 - val_loss: 11.7709 - val_acc: 0.2697 - val_mean_pred: 0.2000\n",
      "Epoch 11/20\n",
      "960/960 [==============================] - 5s 5ms/step - loss: 11.5345 - acc: 0.2844 - mean_pred: 0.2000 - val_loss: 11.7709 - val_acc: 0.2697 - val_mean_pred: 0.2000\n",
      "Epoch 12/20\n",
      "960/960 [==============================] - 5s 5ms/step - loss: 11.5345 - acc: 0.2844 - mean_pred: 0.2000 - val_loss: 11.7709 - val_acc: 0.2697 - val_mean_pred: 0.2000\n",
      "Epoch 13/20\n",
      "960/960 [==============================] - 5s 5ms/step - loss: 11.5345 - acc: 0.2844 - mean_pred: 0.2000 - val_loss: 11.7709 - val_acc: 0.2697 - val_mean_pred: 0.2000\n",
      "Epoch 14/20\n",
      "960/960 [==============================] - 5s 5ms/step - loss: 11.5345 - acc: 0.2844 - mean_pred: 0.2000 - val_loss: 11.7709 - val_acc: 0.2697 - val_mean_pred: 0.2000\n",
      "Epoch 15/20\n",
      "960/960 [==============================] - 5s 5ms/step - loss: 11.5345 - acc: 0.2844 - mean_pred: 0.2000 - val_loss: 11.7709 - val_acc: 0.2697 - val_mean_pred: 0.2000\n",
      "Epoch 16/20\n",
      "960/960 [==============================] - 5s 5ms/step - loss: 11.5345 - acc: 0.2844 - mean_pred: 0.2000 - val_loss: 11.7709 - val_acc: 0.2697 - val_mean_pred: 0.2000\n",
      "Epoch 17/20\n",
      "960/960 [==============================] - 5s 5ms/step - loss: 11.5345 - acc: 0.2844 - mean_pred: 0.2000 - val_loss: 11.7709 - val_acc: 0.2697 - val_mean_pred: 0.2000\n",
      "Epoch 18/20\n",
      "960/960 [==============================] - 5s 5ms/step - loss: 11.5345 - acc: 0.2844 - mean_pred: 0.2000 - val_loss: 11.7709 - val_acc: 0.2697 - val_mean_pred: 0.2000\n",
      "Epoch 19/20\n",
      "960/960 [==============================] - 5s 5ms/step - loss: 11.5345 - acc: 0.2844 - mean_pred: 0.2000 - val_loss: 11.7709 - val_acc: 0.2697 - val_mean_pred: 0.2000\n",
      "Epoch 20/20\n",
      "960/960 [==============================] - 5s 5ms/step - loss: 11.5345 - acc: 0.2844 - mean_pred: 0.2000 - val_loss: 11.7709 - val_acc: 0.2697 - val_mean_pred: 0.2000\n"
     ]
    }
   ],
   "source": [
    "batch_size = 500\n",
    "epochs = 20\n",
    "\n",
    "def mean_pred(y_true, y_pred):\n",
    "    return K.mean(y_pred)\n",
    "\n",
    "def train(model, X_train, Y_train, X_test, Y_test, batch_size, epochs):\n",
    "    model.compile(loss=keras.losses.categorical_crossentropy,\n",
    "#               optimizer=keras.optimizers.Adadelta(),\n",
    "             optimizer=keras.optimizers.Adam(\n",
    "                 lr=0.0003,\n",
    "# #                  lr=1e-2,\n",
    "# #                  epsilon=1e-6\n",
    "             ),\n",
    "              metrics=['accuracy', mean_pred])\n",
    "\n",
    "    model.fit(X_train, Y_train,\n",
    "              batch_size=batch_size,\n",
    "              epochs=epochs,\n",
    "              verbose=1,\n",
    "              \n",
    "    validation_data=(X_test, Y_test))\n",
    "train(model, X_train, Y_train, X_test, Y_test, batch_size, epochs)"
   ]
  },
  {
   "cell_type": "code",
   "execution_count": 25,
   "metadata": {},
   "outputs": [
    {
     "name": "stdout",
     "output_type": "stream",
     "text": [
      "Train loss: 11.534511947631836\n",
      "Train accuracy: 0.284375\n",
      "Test loss: 11.770891264761138\n",
      "Test accuracy: 0.26970954358392235\n"
     ]
    }
   ],
   "source": [
    "score = model.evaluate(X_train, Y_train, verbose=0)\n",
    "print('Train loss:', score[0])\n",
    "print('Train accuracy:', score[1])\n",
    "\n",
    "score = model.evaluate(X_test, Y_test, verbose=0)\n",
    "print('Test loss:', score[0])\n",
    "print('Test accuracy:', score[1])\n"
   ]
  },
  {
   "cell_type": "code",
   "execution_count": 30,
   "metadata": {},
   "outputs": [
    {
     "name": "stdout",
     "output_type": "stream",
     "text": [
      "types: ['foto', 'kaart', 'affiche', 'bouwtekening', 'prent']\n",
      "train predictions, truth\n",
      "[3 3 3 3 3 3 3 3 3 3 3 3 3 3 3]\n",
      "[0 3 3 3 4 4 0 3 4 4 4 4 4 0 3]\n",
      "test predictions, truth\n",
      "[3 3 3 3 3 3 3 3 3 3 3 3 3 3 3]\n",
      "[4 4 3 4 3 4 2 4 4 4 3 4 4 0 4]\n"
     ]
    }
   ],
   "source": [
    "show_cnt = 15\n",
    "print(f\"types: {types}\")\n",
    "\n",
    "print(\"train predictions, truth\")\n",
    "print(model.predict_classes(X_train)[:show_cnt])\n",
    "print(np.argmax(Y_train, axis=1)[:show_cnt])\n",
    "\n",
    "print(\"test predictions, truth\")\n",
    "print(model.predict_classes(X_test)[:show_cnt])\n",
    "print(np.argmax(Y_test, axis=1)[:show_cnt])"
   ]
  },
  {
   "cell_type": "code",
   "execution_count": 17,
   "metadata": {},
   "outputs": [],
   "source": [
    "from PIL import Image\n",
    "import matplotlib.pyplot as plt\n",
    "%matplotlib inline\n",
    "\n",
    "def show_image(data, idx):\n",
    "    image=X_train[idx, :, :, :]\n",
    "#     print(image.shape)\n",
    "#     img = Image.fromarray(image, 'RGB')\n",
    "#     img.show()\n",
    "    plt.axis(\"off\")\n",
    "    plt.imshow(image)\n",
    "    plt.show()"
   ]
  },
  {
   "cell_type": "code",
   "execution_count": 29,
   "metadata": {},
   "outputs": [
    {
     "data": {
      "image/png": "[encoded data removed]",
      "text/plain": [
       "<Figure size 432x288 with 1 Axes>"
      ]
     },
     "metadata": {
      "needs_background": "light"
     },
     "output_type": "display_data"
    }
   ],
   "source": [
    "show_image(X_test, 0)"
   ]
  }
 ],
 "metadata": {
  "kernelspec": {
   "display_name": "Python 3",
   "language": "python",
   "name": "python3"
  },
  "language_info": {
   "codemirror_mode": {
    "name": "ipython",
    "version": 3
   },
   "file_extension": ".py",
   "mimetype": "text/x-python",
   "name": "python",
   "nbconvert_exporter": "python",
   "pygments_lexer": "ipython3",
   "version": "3.7.2"
  }
 },
 "nbformat": 4,
 "nbformat_minor": 2
}
