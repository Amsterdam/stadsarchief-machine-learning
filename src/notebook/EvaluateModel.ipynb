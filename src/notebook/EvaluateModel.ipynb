{
 "cells": [
  {
   "cell_type": "code",
   "execution_count": null,
   "metadata": {},
   "outputs": [],
   "source": [
    "cd ../.."
   ]
  },
  {
   "cell_type": "code",
   "execution_count": null,
   "metadata": {},
   "outputs": [],
   "source": [
    "# Hot reload packages\n",
    "%load_ext autoreload\n",
    "%autoreload 2"
   ]
  },
  {
   "cell_type": "code",
   "execution_count": null,
   "metadata": {},
   "outputs": [],
   "source": [
    "# Show image in notebook\n",
    "%matplotlib inline"
   ]
  },
  {
   "cell_type": "code",
   "execution_count": null,
   "metadata": {},
   "outputs": [],
   "source": [
    "# Show log output in Notebook\n",
    "import logging\n",
    "import sys\n",
    "log_level = logging.INFO\n",
    "root = logging.getLogger()\n",
    "root.setLevel(log_level)\n",
    "handler = logging.StreamHandler(sys.stdout)\n",
    "handler.setLevel(log_level)\n",
    "root.addHandler(handler)"
   ]
  },
  {
   "cell_type": "markdown",
   "metadata": {},
   "source": [
    "# Load model"
   ]
  },
  {
   "cell_type": "code",
   "execution_count": null,
   "metadata": {},
   "outputs": [],
   "source": [
    "from src.persistence.persistence import load_model_and_pre_processing\n",
    "\n",
    "MODEL_DIR = 'output/model'\n",
    "\n",
    "[model, image_encoder, label_encoder] = load_model_and_pre_processing(MODEL_DIR)"
   ]
  },
  {
   "cell_type": "markdown",
   "metadata": {},
   "source": [
    "# Load data"
   ]
  },
  {
   "cell_type": "code",
   "execution_count": null,
   "metadata": {},
   "outputs": [],
   "source": [
    "from datasets.load_data import load_raw\n",
    "limit = 100\n",
    "skip=[]  # ids to skip\n",
    "img_dim = [250, 250]\n",
    "img_dir = f'datasets/dataset_3b_ZO_AnB_other_production/images/{img_dim[0]}x{img_dim[1]}/'\n",
    "label_dir = 'datasets/dataset_3b_ZO_AnB_other_production/labels/'\n",
    "[Img, Data, Label, _] = load_raw(img_dir, label_dir, skip, limit)"
   ]
  },
  {
   "cell_type": "markdown",
   "metadata": {},
   "source": [
    "# Pre process data"
   ]
  },
  {
   "cell_type": "code",
   "execution_count": null,
   "metadata": {},
   "outputs": [],
   "source": [
    "print('Img.shape: ', Img.shape)\n",
    "X = image_encoder.transform(Img)\n",
    "print('X.shape: ', X.shape)"
   ]
  },
  {
   "cell_type": "code",
   "execution_count": null,
   "metadata": {},
   "outputs": [],
   "source": [
    "print('Label.shape: ', Label.shape)\n",
    "Z = label_encoder.transform(Label).toarray()\n",
    "print('Z.shape: ', Z.shape)"
   ]
  },
  {
   "cell_type": "markdown",
   "metadata": {},
   "source": [
    "# Predict"
   ]
  },
  {
   "cell_type": "code",
   "execution_count": null,
   "metadata": {},
   "outputs": [],
   "source": [
    "predictions = model.predict(X, verbose=1)"
   ]
  },
  {
   "cell_type": "markdown",
   "metadata": {},
   "source": [
    "# Show results"
   ]
  },
  {
   "cell_type": "code",
   "execution_count": null,
   "metadata": {},
   "outputs": [],
   "source": [
    "from src.notebook.image_display import show_image\n",
    "\n",
    "# Code to show specific image by index\n",
    "index = 0\n",
    "id = Data[index, 2]\n",
    "print(id)\n",
    "image = Img[index]\n",
    "show_image(image)"
   ]
  },
  {
   "cell_type": "code",
   "execution_count": null,
   "metadata": {},
   "outputs": [],
   "source": [
    "from src.stats import show_prediction_list\n",
    "show_prediction_list(predictions, Z)"
   ]
  },
  {
   "cell_type": "code",
   "execution_count": null,
   "metadata": {},
   "outputs": [],
   "source": [
    "from src.notebook.image_display import show_prediction_images\n",
    "print(\"prediction images:\")\n",
    "show_prediction_images(\n",
    "    Img,\n",
    "    Z,\n",
    "    predictions,\n",
    "    Data[:, 2],\n",
    "    label_encoder,\n",
    "    50\n",
    ")"
   ]
  },
  {
   "cell_type": "code",
   "execution_count": null,
   "metadata": {},
   "outputs": [],
   "source": [
    "import ipywidgets as widgets\n",
    "from ipywidgets import interact, fixed\n",
    "\n",
    "from src.notebook.results import combined_report\n",
    "    \n",
    "widget = widgets.FloatSlider(\n",
    "    value=0.9,\n",
    "    min=0.5,\n",
    "    max=1.0,\n",
    "    step=0.005,\n",
    "    continuous_update=False,\n",
    "    description='Threshold:',\n",
    "    readout=True,\n",
    "    readout_format='.3f',\n",
    ")\n",
    "\n",
    "interact(\n",
    "    combined_report,\n",
    "    threshold=widget,\n",
    "    true_oh=fixed(Z),\n",
    "    predictions_oh=fixed(predictions),\n",
    "    ids=fixed(Data[:, 2]),\n",
    "    label_encoder=fixed(label_encoder)\n",
    ");\n"
   ]
  }
 ],
 "metadata": {
  "kernelspec": {
   "display_name": "Python 3",
   "language": "python",
   "name": "python3"
  },
  "language_info": {
   "codemirror_mode": {
    "name": "ipython",
    "version": 3
   },
   "file_extension": ".py",
   "mimetype": "text/x-python",
   "name": "python",
   "nbconvert_exporter": "python",
   "pygments_lexer": "ipython3",
   "version": "3.7.3"
  }
 },
 "nbformat": 4,
 "nbformat_minor": 2
}
