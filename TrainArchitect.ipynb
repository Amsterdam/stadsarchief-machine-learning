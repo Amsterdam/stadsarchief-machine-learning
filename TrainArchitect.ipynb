{
 "cells": [
  {
   "cell_type": "code",
   "execution_count": null,
   "metadata": {},
   "outputs": [],
   "source": [
    "import numpy as np\n",
    "from PIL import Image\n",
    "from scipy import misc\n",
    "import keras.backend as K\n",
    "\n",
    "import keras\n",
    "from keras.datasets import mnist\n",
    "from keras.models import Sequential\n",
    "from keras.layers import Dense, Dropout, Flatten\n",
    "from keras.layers import Conv2D, MaxPooling2D\n",
    "from keras.initializers import RandomUniform\n",
    "from keras.layers import LeakyReLU\n",
    "\n",
    "from stats import list_stats\n",
    "from data import load_data"
   ]
  },
  {
   "cell_type": "code",
   "execution_count": null,
   "metadata": {},
   "outputs": [],
   "source": [
    "IMG_DIR = 'examples/0-src/architect_set/200x200/';\n",
    "LABEL_DIR = 'examples/0-src/architect_set/labels/';\n",
    "\n",
    "[X, Y_yaml] = load_data(IMG_DIR, LABEL_DIR)\n",
    "\n",
    "Y_architect = np.array([y.get('architect') for y in Y_yaml])\n"
   ]
  },
  {
   "cell_type": "code",
   "execution_count": null,
   "metadata": {},
   "outputs": [],
   "source": [
    "def convert_to_index(Y, types):\n",
    "    return np.array([types.index(y) for y in Y])\n",
    "\n",
    "def idx_to_str(indices, types):\n",
    "    return [types[idx] for idx in indices]\n",
    "\n",
    "# def list_stats(Y):\n",
    "#     types = list(set(Y))\n",
    "#     print(f\"classes: {len(types)}\")\n",
    "    \n",
    "#     Y_idx = convert_to_index(Y_architect, Y_architect_set)\n",
    "#     unique, counts = np.unique(Y_idx, return_counts=True)  \n",
    "#     unique_counts = list(zip(unique, counts))\n",
    "# #     print(unique_counts)\n",
    "    \n",
    "#     top = [[types[idx], count] for idx, count in unique_counts if count > 5]\n",
    "#     print(top)\n",
    "    \n",
    "# #     for architect in Y_architect_set:\n",
    "# #         print(architect)\n",
    "    \n",
    "\n",
    "list_stats(Y_architect)"
   ]
  }
 ],
 "metadata": {
  "kernelspec": {
   "display_name": "Python 3",
   "language": "python",
   "name": "python3"
  },
  "language_info": {
   "codemirror_mode": {
    "name": "ipython",
    "version": 3
   },
   "file_extension": ".py",
   "mimetype": "text/x-python",
   "name": "python",
   "nbconvert_exporter": "python",
   "pygments_lexer": "ipython3",
   "version": "3.7.3"
  }
 },
 "nbformat": 4,
 "nbformat_minor": 2
}
