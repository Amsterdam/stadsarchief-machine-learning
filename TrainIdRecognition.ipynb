{
 "cells": [
  {
   "cell_type": "code",
   "execution_count": null,
   "metadata": {},
   "outputs": [],
   "source": [
    "import numpy as np\n",
    "import math\n",
    "from PIL import Image\n",
    "from scipy import misc\n",
    "import keras.backend as K\n",
    "from PIL import Image\n",
    "import matplotlib.pyplot as plt\n",
    "%matplotlib inline\n",
    "\n",
    "import keras\n",
    "from keras.datasets import mnist\n",
    "from keras.models import Sequential, Model\n",
    "from keras.layers import Input, Dense, Dropout, Flatten\n",
    "from keras.layers import Conv2D, MaxPooling2D\n",
    "from keras.initializers import RandomUniform\n",
    "from keras.layers import LeakyReLU\n",
    "from keras.preprocessing.image import ImageDataGenerator\n",
    " \n",
    "\n",
    "from stats import list_stats, show_train_curves, show_prediction_list, show_prediction_images\n",
    "# from stats import show_train_curves\n",
    "from data import load_recognition_data, split_data\n",
    "from image_display import show_image\n",
    "%load_ext autoreload\n",
    "%autoreload 2"
   ]
  },
  {
   "cell_type": "code",
   "execution_count": null,
   "metadata": {},
   "outputs": [],
   "source": [
    "# img_dim = (100, 100, 3);\n",
    "# IMG_DIR = f'examples/0-src/beeldbank-scraped_set/{img_dim[0]}x{img_dim[1]}/'\n",
    "IMG_DIR = f'examples/0-src/architect_set_object_recognition/full/'\n",
    "LABEL_DIR = 'examples/0-src/architect_set_object_recognition/full/'\n",
    "OBJ_PATH = 'examples/0-src/architect_set_object_recognition/obj.names'\n",
    "\n",
    "[X, Y, types] = load_recognition_data(IMG_DIR, LABEL_DIR, OBJ_PATH)\n",
    "print(types)\n",
    "print(X.shape)\n",
    "print(Y.shape)\n",
    "print(Y)"
   ]
  }
 ],
 "metadata": {
  "kernelspec": {
   "display_name": "Python 3",
   "language": "python",
   "name": "python3"
  },
  "language_info": {
   "codemirror_mode": {
    "name": "ipython",
    "version": 3
   },
   "file_extension": ".py",
   "mimetype": "text/x-python",
   "name": "python",
   "nbconvert_exporter": "python",
   "pygments_lexer": "ipython3",
   "version": "3.7.3"
  }
 },
 "nbformat": 4,
 "nbformat_minor": 2
}
